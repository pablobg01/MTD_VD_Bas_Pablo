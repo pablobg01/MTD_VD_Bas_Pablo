{
 "cells": [
  {
   "cell_type": "markdown",
   "id": "516607fa",
   "metadata": {},
   "source": [
    "# AEC3_surname_name.ipynb\n",
    "\n",
    "This notebook contains the resolution of the AEC3 test as per the instructions. All questions have been copied and answered in Markdown cells. Problems are answered with detailed justifications.\n",
    "\n",
    "*Name:* Pablo Bas Genís  \n"
   ]
  },
  {
   "cell_type": "markdown",
   "id": "0afe388e",
   "metadata": {},
   "source": [
    "### 1. Which of the following statements accurately describes dependency methods?\n",
    "\n",
    "Answer: c) Dependency methods focus on determining the impact of independent variables on dependent variables."
   ]
  },
  {
   "cell_type": "markdown",
   "id": "d7c3608b",
   "metadata": {},
   "source": [
    "### 2. Fill out the blanks in the next sentence: Multiple Linear Regression analyses the relationship between ____ and ____.\n",
    "\n",
    "Answer: b) One metric dependent variable, several metric or non-metric independent variables."
   ]
  },
  {
   "cell_type": "markdown",
   "id": "b603430f",
   "metadata": {},
   "source": [
    "### 3. In the next equation, what are 𝑒𝑖? 𝑌𝑖 =(𝛽0 +𝛽1𝑋1𝑖 +𝛽2𝑋2𝑖 +⋯+𝛽𝑛𝑋𝑛𝑖)+𝑒𝑖\n",
    "\n",
    "Answer: a) The differences between the observed values and the estimated values of the model."
   ]
  },
  {
   "cell_type": "markdown",
   "id": "aecb71c8",
   "metadata": {},
   "source": [
    "### 4. What is the purpose of using dummy variables for categorical predictors when they have more than two levels in regression analysis?\n",
    "\n",
    "Answer: b) Dummy variables are the average percentage by which each level influences the dependent variable Y compared to the reference level of the predictor."
   ]
  },
  {
   "cell_type": "markdown",
   "id": "702b8d3c",
   "metadata": {},
   "source": [
    "### 5. Why do we use adjusted R² in multiple linear models?\n",
    "\n",
    "Answer: a) Adjusted R² penalizes the number of predictors included in the model based on sample size."
   ]
  },
  {
   "cell_type": "markdown",
   "id": "df121b57",
   "metadata": {},
   "source": [
    "### 6. Which of the following methods can be used for predictor selection in regression analysis?\n",
    "\n",
    "Answer: d) All of the others."
   ]
  },
  {
   "cell_type": "markdown",
   "id": "6d7bc65c",
   "metadata": {},
   "source": [
    "### 7. What is the use of model validation in regression analysis?\n",
    "\n",
    "Answer: b) Model validation evaluates the performance of the model on new, unseen observations."
   ]
  },
  {
   "cell_type": "markdown",
   "id": "af038d06",
   "metadata": {},
   "source": [
    "### 8. Which model validation is the one represented in the following picture?\n",
    "\n",
    "Answer: d) K-Fold Cross-Validation."
   ]
  },
  {
   "cell_type": "markdown",
   "id": "256cb9fe",
   "metadata": {},
   "source": [
    "### 9. Why do we use Root Mean Square Error (RMSE) in model validation?\n",
    "\n",
    "Answer: c) RMSE quantifies the goodness of fit of the model."
   ]
  },
  {
   "cell_type": "markdown",
   "id": "03cb1945",
   "metadata": {},
   "source": [
    "### 10. What is the primary purpose of logistic regression?\n",
    "\n",
    "Answer: c) To predict the probability of an event (binary dependent variable) occurring based on independent variables."
   ]
  },
  {
   "cell_type": "markdown",
   "id": "c5041950",
   "metadata": {},
   "source": [
    "### 11. Select the correct answer about the binomial distribution:\n",
    "\n",
    "Answer: b) It represents situations with only two possible events."
   ]
  },
  {
   "cell_type": "markdown",
   "id": "02c863c1",
   "metadata": {},
   "source": [
    "### 12. Which of the following statements accurately describes the use of the logit transformation in logistic regression?\n",
    "\n",
    "Answer: b) It creates a sigmoidal function to model Bernoulli distributions."
   ]
  },
  {
   "cell_type": "markdown",
   "id": "bfa4944b",
   "metadata": {},
   "source": [
    "### 13. We use a procedure illustrated in the following picture to select the predictors of a logistic regression. What is its name?\n",
    "\n",
    "Answer: d) It is the double or mixed procedure."
   ]
  },
  {
   "cell_type": "markdown",
   "id": "ed88ac86",
   "metadata": {},
   "source": [
    "### 14. How do we measure the goodness of fit in the logistic regression?\n",
    "\n",
    "Answer: d) With the confusion matrix."
   ]
  },
  {
   "cell_type": "markdown",
   "id": "b609381f",
   "metadata": {},
   "source": [
    "### 15. Which one is NOT a condition of applicability of the logistic regression?\n",
    "\n",
    "Answer: b) Constant variance when the mean changes."
   ]
  },
  {
   "cell_type": "markdown",
   "id": "083f6543",
   "metadata": {},
   "source": [
    "### 16. How does multicollinearity impact the interpretation of coefficients in statistical models?\n",
    "\n",
    "Answer: a) It makes the interpretation of coefficients unreliable."
   ]
  },
  {
   "cell_type": "markdown",
   "id": "b07c02fa",
   "metadata": {},
   "source": [
    "### 17. What is one approach to address the problem of unbalanced samples in classification tasks?\n",
    "\n",
    "Answer: d) Adjust the probability cut-off point for classification decisions."
   ]
  },
  {
   "cell_type": "markdown",
   "id": "9f562a08",
   "metadata": {},
   "source": [
    "### 18. What distinguishes time series data from cross-sectional data?\n",
    "\n",
    "Answer: a) Time series data involves observations taken at multiple points in time for a single entity."
   ]
  },
  {
   "cell_type": "markdown",
   "id": "11c6bcbb",
   "metadata": {},
   "source": [
    "### 19. What are the two main tasks concerning time series data in data mining or machine learning processes?\n",
    "\n",
    "Answer: b) The analysis of time series and time series forecasting."
   ]
  },
  {
   "cell_type": "markdown",
   "id": "560ba617",
   "metadata": {},
   "source": [
    "### 20. What is panel data, also known as longitudinal data?\n",
    "\n",
    "Answer: c) Data taken from multiple entities at multiple time points."
   ]
  },
  {
   "cell_type": "markdown",
   "id": "263d04db",
   "metadata": {},
   "source": [
    "### 21. What is the difference between heteroscedasticity and homoscedasticity?\n",
    "\n",
    "Answer: d) Heteroscedasticity refers to a varying error variance on the independent variable, while homoscedasticity refers to a constant error variance."
   ]
  },
  {
   "cell_type": "markdown",
   "id": "aef59d4d",
   "metadata": {},
   "source": [
    "### 22. Which time series component involves regular or fixed interval shifts within the dataset?\n",
    "\n",
    "Answer: b) Seasonality."
   ]
  },
  {
   "cell_type": "markdown",
   "id": "302fb249",
   "metadata": {},
   "source": [
    "### 23. What characterizes the fluctuations caused by random or irregular variations in time series data?\n",
    "\n",
    "Answer: c) They are stochastic and unpredictable."
   ]
  },
  {
   "cell_type": "markdown",
   "id": "4ead385d",
   "metadata": {},
   "source": [
    "### 24. What is the purpose of differencing in time series analysis?\n",
    "\n",
    "Answer: b) To stabilize the mean of the time series."
   ]
  },
  {
   "cell_type": "markdown",
   "id": "f4fb0f22",
   "metadata": {},
   "source": [
    "### 25. Select the correct answer:\n",
    "\n",
    "Answer: d) A pure autoregressive model (AR) is a model that depends on solely from its lags. To know if a lag is needed, we use the Partial Correlations Function (PACF)."
   ]
  },
  {
   "cell_type": "markdown",
   "id": "33e0f044",
   "metadata": {},
   "source": [
    "\n",
    "## Problem 1\n",
    "\n",
    "**a) Interpret these results and all you have learnt from them.**\n",
    "\n",
    "\n",
    "- **Intercept (20.5)**: This is the estimated per capita wager when all predictors are 0, although this value is often not meaningful by itself.\n",
    "- **Population Density (0.03)**: A unit increase in population density is associated with a €0.03 increase in per capita wager, holding other variables constant. The effect is statistically significant (p = 0.005).\n",
    "- **Average Income (1.25)**: For each additional unit (e.g., €1,000) in average income, the wager increases by €1.25 per capita. This is highly significant (p < 0.001), indicating a strong relationship.\n",
    "- **% Urban Population (-0.40)**: More urbanized areas are associated with a decrease in wagering per capita, possibly due to access to alternative leisure activities.\n",
    "\n",
    "- **R² (0.72)** indicates that 72% of the variability in wagering is explained by the model.\n",
    "- **Adjusted R² (0.69)** slightly penalizes model complexity and still shows a strong explanatory power.\n",
    "\n",
    "---\n",
    "\n",
    "**b) Justify if this model would be valid or how you would obtain a valid one.**\n",
    "\n",
    "**Validity Assessment:**\n",
    "\n",
    "- **Linearity**: Check linearity assumption via residual plots. If patterns exist, transformation may be needed.\n",
    "- **Homoscedasticity**: Residuals should have constant variance.\n",
    "\n",
    "\n",
    "A valid prediction model would pass these diagnostics and have good performance in cross-validation (e.g., low RMSE).\n"
   ]
  },
  {
   "cell_type": "markdown",
   "id": "06c99332",
   "metadata": {},
   "source": [
    "\n",
    "## Problem 2\n",
    "\n",
    "**a) Explain these components and describe how this specific time series behaves in regard to them.**\n",
    "\n",
    "A time series typically has four components:\n",
    "\n",
    "- **Trend**: Long-term progression of the series. E.g., increasing lottery sales over years.\n",
    "- **Seasonality**: Repeating short-term cycles, often linked to calendar periods (e.g., holiday peaks).\n",
    "- **Cyclicality**: Medium- or long-term fluctuations not tied to season, like economic cycles.\n",
    "- **Irregular component (noise)**: Random variation not explained by the above.\n",
    "\n",
    "In the decomposition figure:\n",
    "- If trend is increasing, the data has a positive overall progression.\n",
    "- Seasonality appears as repeated peaks/dips annually.\n",
    "- Noise appears in the residuals after removing trend/seasonality.\n",
    "\n",
    "---\n",
    "\n",
    "**b) Explain which transformation has been applied in the following graphic, what it consists of and its purpose.**\n",
    "\n",
    "The plot likely shows a **differenced time series**.\n",
    "\n",
    "- **Differencing** removes trend or seasonality by computing the difference between consecutive observations.\n",
    "- If applied once: removes linear trend.\n",
    "- If applied twice: removes quadratic trend.\n",
    "- Purpose: **to achieve stationarity**.\n",
    "\n",
    "---\n",
    "\n",
    "**c) If your purpose is to forecast this univariate time series data, which model of the ones seen in class would you choose to use and why?**\n",
    "\n",
    "**Chosen model: SARIMA (Seasonal ARIMA)**\n",
    "\n",
    "- **Why?** Because:\n",
    "  - It handles both non-seasonal and seasonal components.\n",
    "  - Suitable for univariate time series with trend + seasonality.\n",
    "  - Supports differencing to enforce stationarity.\n",
    "  - Flexible and interpretable.\n",
    "\n"
   ]
  }
 ],
 "metadata": {
  "language_info": {
   "name": "python"
  }
 },
 "nbformat": 4,
 "nbformat_minor": 5
}
