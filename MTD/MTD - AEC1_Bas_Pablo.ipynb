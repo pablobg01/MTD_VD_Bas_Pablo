{
 "cells": [
  {
   "cell_type": "markdown",
   "metadata": {},
   "source": [
    "# **MTD - AEC1_S1 - Linear Regression**\n",
    "**Degree:** Data Science  \n",
    "**Course:** Decision-Making Models      \n",
    "**Student name:** Pablo Bas Genís"
   ]
  },
  {
   "cell_type": "markdown",
   "metadata": {},
   "source": [
    "---\n",
    "---"
   ]
  },
  {
   "cell_type": "markdown",
   "metadata": {},
   "source": [
    "**Submission Instructions**  \n",
    "\n",
    "Please read and complete all tasks within the same **Jupyter Notebook (.ipynb)**. Ensure that your code is well-documented, and all required outputs (tables, graphs, and explanations) are included within the notebook.  \n",
    "\n",
    "Once you have finished, upload your completed **.ipynb file** to **Canvas** before **February 11th at 23:59**.  \n",
    "\n",
    "Late submissions may be subject to penalties as per the course policies."
   ]
  },
  {
   "cell_type": "markdown",
   "metadata": {},
   "source": [
    "---\n",
    "---"
   ]
  },
  {
   "cell_type": "markdown",
   "metadata": {},
   "source": [
    "## **Multiple-Choice Questions on Linear Regression**  \n",
    "\n",
    "Each question is worth **1 point**. The correct answer is worth **0.6 points**, and the justification for why the selected answer is correct (and why the others are not) is worth **0.4 points**.  \n",
    "\n"
   ]
  },
  {
   "cell_type": "markdown",
   "metadata": {},
   "source": [
    "**1. In simple linear regression, what does the slope ($\\beta_1$) of the regression equation represent?**  \n",
    "**a)** The value of $Y$ when $X = 0$.  \n",
    "**b)** The average change in $Y$ for a one-unit increase in $X$.  \n",
    "**c)** The percentage of variation in $Y$ explained by $X$.  \n",
    "**d)** The error term that accounts for randomness in the model.  \n",
    "\n"
   ]
  },
  {
   "cell_type": "markdown",
   "metadata": {},
   "source": [
    "Answer: b. The average change in Y for a one-unit increase in X.\n",
    "Justification: The slope β1 indicates how Y varies when X increases by one unit."
   ]
  },
  {
   "cell_type": "markdown",
   "metadata": {},
   "source": [
    "**2. Which of the following assumptions is NOT required for simple linear regression?**  \n",
    "**a)** The relationship between $X$ and $Y$ is linear.  \n",
    "**b)** The residuals are normally distributed.  \n",
    "**c)** The independent variable must be normally distributed.  \n",
    "**d)** The variance of residuals is constant (homoscedasticity).  \n",
    "\n"
   ]
  },
  {
   "cell_type": "markdown",
   "metadata": {},
   "source": [
    "Answer: c. The independent variable must be normally distributed.\n",
    "Justification: In linear regression, normality is assumed for the residuals, not for X."
   ]
  },
  {
   "cell_type": "markdown",
   "metadata": {},
   "source": [
    "**3. If the coefficient of determination ($R^2$) is close to 1, what does this imply?**  \n",
    "**a)** The independent variable perfectly predicts the dependent variable.  \n",
    "**b)** The model explains most of the variability in the dependent variable.  \n",
    "**c)** The slope of the regression line is equal to 1.  \n",
    "**d)** The regression model is guaranteed to be useful for prediction.  \n",
    "\n"
   ]
  },
  {
   "cell_type": "markdown",
   "metadata": {},
   "source": [
    "Answer: b. The model explains most of the variability in the dependent variable.\n",
    "Justification: A high R² indicates that the model fits well, but does not guarantee causation."
   ]
  },
  {
   "cell_type": "markdown",
   "metadata": {},
   "source": [
    "**4. Which situation indicates that a linear regression model may not be appropriate?**  \n",
    "**a)** The residuals show a clear pattern when plotted against $X$.  \n",
    "**b)** The coefficient of determination ($R^2$) is relatively high.  \n",
    "**c)** The residuals appear randomly scattered around zero.  \n",
    "**d)** The p-value for the slope coefficient is below 0.05.  "
   ]
  },
  {
   "cell_type": "markdown",
   "metadata": {},
   "source": [
    "Answer: a. The residuals show a clear pattern when plotted against X.\n",
    "Justification: If the residuals are not random, there may be specification problems in the model."
   ]
  },
  {
   "cell_type": "markdown",
   "metadata": {},
   "source": [
    "---\n",
    "---"
   ]
  },
  {
   "cell_type": "markdown",
   "metadata": {},
   "source": [
    "## **Problem-Solving Questions (3 Points Each)**  "
   ]
  },
  {
   "cell_type": "markdown",
   "metadata": {},
   "source": [
    "**1. Statement for Simple Linear Regression (SLR) in Python with pandas and plotly**  \n",
    "\n",
    "The objective of this exercise is to analyze the relationship between two variables, **billing (Y) and investment in R&D&I (X)**, using a **simple linear regression model**. The dataset required for this analysis is provided in the PDF file **Regresion_ANOVA_MTD_2021_2022.pdf**, specifically in the section **\"SLR Example: Billing and Investment in R&D&I\"**. We will use **pandas** for data manipulation and analysis, along with **plotly** for interactive visualization of the results.  \n",
    "\n",
    "This analysis should include an initial statistical exploration of the data, fitting a linear regression model, generating a scatter plot with the fitted line, and adding a **text box in the visualization** that displays the regression equation and the coefficient of determination ($R^2$).  \n",
    "\n",
    "**Evaluation Criteria**  \n",
    "\n",
    "1. **Data Extraction and Exploration**  \n",
    "   - Extract the dataset from the **\"SLR Example: Billing and Investment in R&D&I\"** section of the **Regresion_ANOVA_MTD_2021_2022.pdf** file.  \n",
    "   - Enter the **billing (Y) and investment in R&D&I (X)** data into a **pandas DataFrame**.  \n",
    "   - Display a statistical summary including **mean, variance, and covariance**.  \n",
    "\n",
    "2. **Initial Visualization**  \n",
    "   - Generate an **interactive scatter plot using plotly** to observe the relationship between **investment (X)** and **billing (Y)**.  \n",
    "\n",
    "3. **Linear Regression Calculation**  \n",
    "   - Use the **least squares method** to determine the regression coefficients:  \n",
    "     - **Slope ($\\beta_1$)**: Measures how much billing increases for each additional euro invested in R&D&I.  \n",
    "     - **Intercept ($\\beta_0$)**: Represents the expected billing when there is no investment in R&D&I.  \n",
    "   - Compute the **coefficient of determination ($R^2$)** to evaluate model accuracy.  \n",
    "\n",
    "4. **Final Graph Generation**  \n",
    "   - Display the **regression line** on the scatter plot.  \n",
    "   - Include an **enclosed text box** in the plot showing:  \n",
    "     - The regression equation in the form $Y = \\beta_0 + \\beta_1 X$.  \n",
    "     - The coefficient of determination $R^2$.  \n",
    "\n",
    "5. **Final Results Table**  \n",
    "   - Present the original dataset (from the **\"SLR Example: Billing and Investment in R&D&I\"** section) along with three additional rows containing:  \n",
    "     - **Mean of $X$ (investment in R&D&I) and $Y$ (billing)**.  \n",
    "     - **Variance of $X$ and $Y$**.  \n",
    "     - **Covariance between $X$ and $Y$**.  "
   ]
  },
  {
   "cell_type": "code",
   "execution_count": 1,
   "metadata": {},
   "outputs": [
    {
     "data": {
      "application/vnd.plotly.v1+json": {
       "config": {
        "plotlyServerURL": "https://plot.ly"
       },
       "data": [
        {
         "hovertemplate": "R&D Investment=%{x}<br>Revenue=%{y}<extra></extra>",
         "legendgroup": "",
         "marker": {
          "color": "#636efa",
          "symbol": "circle"
         },
         "mode": "markers",
         "name": "",
         "orientation": "v",
         "showlegend": false,
         "type": "scatter",
         "x": [
          373,
          4242,
          4115,
          5860,
          5833,
          6002,
          1837,
          1393,
          7829,
          5278,
          3423,
          8481
         ],
         "xaxis": "x",
         "y": [
          8111,
          7462,
          9030,
          13505,
          14801,
          10664,
          6005,
          5853,
          19720,
          11759,
          18640,
          23388
         ],
         "yaxis": "y"
        },
        {
         "hovertemplate": "<b>OLS trendline</b><br>Revenue_Y = 1.76008 * Investment_X + 4393.45<br>R<sup>2</sup>=0.587200<br><br>R&D Investment=%{x}<br>Revenue=%{y} <b>(trend)</b><extra></extra>",
         "legendgroup": "",
         "marker": {
          "color": "#636efa",
          "symbol": "circle"
         },
         "mode": "lines",
         "name": "",
         "showlegend": false,
         "type": "scatter",
         "x": [
          373,
          1393,
          1837,
          3423,
          4115,
          4242,
          5278,
          5833,
          5860,
          6002,
          7829,
          8481
         ],
         "xaxis": "x",
         "y": [
          5049.962606255494,
          6845.244887575135,
          7626.720704149568,
          10418.208643534814,
          11636.184465763432,
          11859.714710594406,
          13683.158282601413,
          14660.003053319455,
          14707.525231354386,
          14957.456686204769,
          18173.124066568478,
          19320.696662078677
         ],
         "yaxis": "y"
        }
       ],
       "layout": {
        "legend": {
         "tracegroupgap": 0
        },
        "template": {
         "data": {
          "bar": [
           {
            "error_x": {
             "color": "#2a3f5f"
            },
            "error_y": {
             "color": "#2a3f5f"
            },
            "marker": {
             "line": {
              "color": "#E5ECF6",
              "width": 0.5
             },
             "pattern": {
              "fillmode": "overlay",
              "size": 10,
              "solidity": 0.2
             }
            },
            "type": "bar"
           }
          ],
          "barpolar": [
           {
            "marker": {
             "line": {
              "color": "#E5ECF6",
              "width": 0.5
             },
             "pattern": {
              "fillmode": "overlay",
              "size": 10,
              "solidity": 0.2
             }
            },
            "type": "barpolar"
           }
          ],
          "carpet": [
           {
            "aaxis": {
             "endlinecolor": "#2a3f5f",
             "gridcolor": "white",
             "linecolor": "white",
             "minorgridcolor": "white",
             "startlinecolor": "#2a3f5f"
            },
            "baxis": {
             "endlinecolor": "#2a3f5f",
             "gridcolor": "white",
             "linecolor": "white",
             "minorgridcolor": "white",
             "startlinecolor": "#2a3f5f"
            },
            "type": "carpet"
           }
          ],
          "choropleth": [
           {
            "colorbar": {
             "outlinewidth": 0,
             "ticks": ""
            },
            "type": "choropleth"
           }
          ],
          "contour": [
           {
            "colorbar": {
             "outlinewidth": 0,
             "ticks": ""
            },
            "colorscale": [
             [
              0,
              "#0d0887"
             ],
             [
              0.1111111111111111,
              "#46039f"
             ],
             [
              0.2222222222222222,
              "#7201a8"
             ],
             [
              0.3333333333333333,
              "#9c179e"
             ],
             [
              0.4444444444444444,
              "#bd3786"
             ],
             [
              0.5555555555555556,
              "#d8576b"
             ],
             [
              0.6666666666666666,
              "#ed7953"
             ],
             [
              0.7777777777777778,
              "#fb9f3a"
             ],
             [
              0.8888888888888888,
              "#fdca26"
             ],
             [
              1,
              "#f0f921"
             ]
            ],
            "type": "contour"
           }
          ],
          "contourcarpet": [
           {
            "colorbar": {
             "outlinewidth": 0,
             "ticks": ""
            },
            "type": "contourcarpet"
           }
          ],
          "heatmap": [
           {
            "colorbar": {
             "outlinewidth": 0,
             "ticks": ""
            },
            "colorscale": [
             [
              0,
              "#0d0887"
             ],
             [
              0.1111111111111111,
              "#46039f"
             ],
             [
              0.2222222222222222,
              "#7201a8"
             ],
             [
              0.3333333333333333,
              "#9c179e"
             ],
             [
              0.4444444444444444,
              "#bd3786"
             ],
             [
              0.5555555555555556,
              "#d8576b"
             ],
             [
              0.6666666666666666,
              "#ed7953"
             ],
             [
              0.7777777777777778,
              "#fb9f3a"
             ],
             [
              0.8888888888888888,
              "#fdca26"
             ],
             [
              1,
              "#f0f921"
             ]
            ],
            "type": "heatmap"
           }
          ],
          "heatmapgl": [
           {
            "colorbar": {
             "outlinewidth": 0,
             "ticks": ""
            },
            "colorscale": [
             [
              0,
              "#0d0887"
             ],
             [
              0.1111111111111111,
              "#46039f"
             ],
             [
              0.2222222222222222,
              "#7201a8"
             ],
             [
              0.3333333333333333,
              "#9c179e"
             ],
             [
              0.4444444444444444,
              "#bd3786"
             ],
             [
              0.5555555555555556,
              "#d8576b"
             ],
             [
              0.6666666666666666,
              "#ed7953"
             ],
             [
              0.7777777777777778,
              "#fb9f3a"
             ],
             [
              0.8888888888888888,
              "#fdca26"
             ],
             [
              1,
              "#f0f921"
             ]
            ],
            "type": "heatmapgl"
           }
          ],
          "histogram": [
           {
            "marker": {
             "pattern": {
              "fillmode": "overlay",
              "size": 10,
              "solidity": 0.2
             }
            },
            "type": "histogram"
           }
          ],
          "histogram2d": [
           {
            "colorbar": {
             "outlinewidth": 0,
             "ticks": ""
            },
            "colorscale": [
             [
              0,
              "#0d0887"
             ],
             [
              0.1111111111111111,
              "#46039f"
             ],
             [
              0.2222222222222222,
              "#7201a8"
             ],
             [
              0.3333333333333333,
              "#9c179e"
             ],
             [
              0.4444444444444444,
              "#bd3786"
             ],
             [
              0.5555555555555556,
              "#d8576b"
             ],
             [
              0.6666666666666666,
              "#ed7953"
             ],
             [
              0.7777777777777778,
              "#fb9f3a"
             ],
             [
              0.8888888888888888,
              "#fdca26"
             ],
             [
              1,
              "#f0f921"
             ]
            ],
            "type": "histogram2d"
           }
          ],
          "histogram2dcontour": [
           {
            "colorbar": {
             "outlinewidth": 0,
             "ticks": ""
            },
            "colorscale": [
             [
              0,
              "#0d0887"
             ],
             [
              0.1111111111111111,
              "#46039f"
             ],
             [
              0.2222222222222222,
              "#7201a8"
             ],
             [
              0.3333333333333333,
              "#9c179e"
             ],
             [
              0.4444444444444444,
              "#bd3786"
             ],
             [
              0.5555555555555556,
              "#d8576b"
             ],
             [
              0.6666666666666666,
              "#ed7953"
             ],
             [
              0.7777777777777778,
              "#fb9f3a"
             ],
             [
              0.8888888888888888,
              "#fdca26"
             ],
             [
              1,
              "#f0f921"
             ]
            ],
            "type": "histogram2dcontour"
           }
          ],
          "mesh3d": [
           {
            "colorbar": {
             "outlinewidth": 0,
             "ticks": ""
            },
            "type": "mesh3d"
           }
          ],
          "parcoords": [
           {
            "line": {
             "colorbar": {
              "outlinewidth": 0,
              "ticks": ""
             }
            },
            "type": "parcoords"
           }
          ],
          "pie": [
           {
            "automargin": true,
            "type": "pie"
           }
          ],
          "scatter": [
           {
            "fillpattern": {
             "fillmode": "overlay",
             "size": 10,
             "solidity": 0.2
            },
            "type": "scatter"
           }
          ],
          "scatter3d": [
           {
            "line": {
             "colorbar": {
              "outlinewidth": 0,
              "ticks": ""
             }
            },
            "marker": {
             "colorbar": {
              "outlinewidth": 0,
              "ticks": ""
             }
            },
            "type": "scatter3d"
           }
          ],
          "scattercarpet": [
           {
            "marker": {
             "colorbar": {
              "outlinewidth": 0,
              "ticks": ""
             }
            },
            "type": "scattercarpet"
           }
          ],
          "scattergeo": [
           {
            "marker": {
             "colorbar": {
              "outlinewidth": 0,
              "ticks": ""
             }
            },
            "type": "scattergeo"
           }
          ],
          "scattergl": [
           {
            "marker": {
             "colorbar": {
              "outlinewidth": 0,
              "ticks": ""
             }
            },
            "type": "scattergl"
           }
          ],
          "scattermapbox": [
           {
            "marker": {
             "colorbar": {
              "outlinewidth": 0,
              "ticks": ""
             }
            },
            "type": "scattermapbox"
           }
          ],
          "scatterpolar": [
           {
            "marker": {
             "colorbar": {
              "outlinewidth": 0,
              "ticks": ""
             }
            },
            "type": "scatterpolar"
           }
          ],
          "scatterpolargl": [
           {
            "marker": {
             "colorbar": {
              "outlinewidth": 0,
              "ticks": ""
             }
            },
            "type": "scatterpolargl"
           }
          ],
          "scatterternary": [
           {
            "marker": {
             "colorbar": {
              "outlinewidth": 0,
              "ticks": ""
             }
            },
            "type": "scatterternary"
           }
          ],
          "surface": [
           {
            "colorbar": {
             "outlinewidth": 0,
             "ticks": ""
            },
            "colorscale": [
             [
              0,
              "#0d0887"
             ],
             [
              0.1111111111111111,
              "#46039f"
             ],
             [
              0.2222222222222222,
              "#7201a8"
             ],
             [
              0.3333333333333333,
              "#9c179e"
             ],
             [
              0.4444444444444444,
              "#bd3786"
             ],
             [
              0.5555555555555556,
              "#d8576b"
             ],
             [
              0.6666666666666666,
              "#ed7953"
             ],
             [
              0.7777777777777778,
              "#fb9f3a"
             ],
             [
              0.8888888888888888,
              "#fdca26"
             ],
             [
              1,
              "#f0f921"
             ]
            ],
            "type": "surface"
           }
          ],
          "table": [
           {
            "cells": {
             "fill": {
              "color": "#EBF0F8"
             },
             "line": {
              "color": "white"
             }
            },
            "header": {
             "fill": {
              "color": "#C8D4E3"
             },
             "line": {
              "color": "white"
             }
            },
            "type": "table"
           }
          ]
         },
         "layout": {
          "annotationdefaults": {
           "arrowcolor": "#2a3f5f",
           "arrowhead": 0,
           "arrowwidth": 1
          },
          "autotypenumbers": "strict",
          "coloraxis": {
           "colorbar": {
            "outlinewidth": 0,
            "ticks": ""
           }
          },
          "colorscale": {
           "diverging": [
            [
             0,
             "#8e0152"
            ],
            [
             0.1,
             "#c51b7d"
            ],
            [
             0.2,
             "#de77ae"
            ],
            [
             0.3,
             "#f1b6da"
            ],
            [
             0.4,
             "#fde0ef"
            ],
            [
             0.5,
             "#f7f7f7"
            ],
            [
             0.6,
             "#e6f5d0"
            ],
            [
             0.7,
             "#b8e186"
            ],
            [
             0.8,
             "#7fbc41"
            ],
            [
             0.9,
             "#4d9221"
            ],
            [
             1,
             "#276419"
            ]
           ],
           "sequential": [
            [
             0,
             "#0d0887"
            ],
            [
             0.1111111111111111,
             "#46039f"
            ],
            [
             0.2222222222222222,
             "#7201a8"
            ],
            [
             0.3333333333333333,
             "#9c179e"
            ],
            [
             0.4444444444444444,
             "#bd3786"
            ],
            [
             0.5555555555555556,
             "#d8576b"
            ],
            [
             0.6666666666666666,
             "#ed7953"
            ],
            [
             0.7777777777777778,
             "#fb9f3a"
            ],
            [
             0.8888888888888888,
             "#fdca26"
            ],
            [
             1,
             "#f0f921"
            ]
           ],
           "sequentialminus": [
            [
             0,
             "#0d0887"
            ],
            [
             0.1111111111111111,
             "#46039f"
            ],
            [
             0.2222222222222222,
             "#7201a8"
            ],
            [
             0.3333333333333333,
             "#9c179e"
            ],
            [
             0.4444444444444444,
             "#bd3786"
            ],
            [
             0.5555555555555556,
             "#d8576b"
            ],
            [
             0.6666666666666666,
             "#ed7953"
            ],
            [
             0.7777777777777778,
             "#fb9f3a"
            ],
            [
             0.8888888888888888,
             "#fdca26"
            ],
            [
             1,
             "#f0f921"
            ]
           ]
          },
          "colorway": [
           "#636efa",
           "#EF553B",
           "#00cc96",
           "#ab63fa",
           "#FFA15A",
           "#19d3f3",
           "#FF6692",
           "#B6E880",
           "#FF97FF",
           "#FECB52"
          ],
          "font": {
           "color": "#2a3f5f"
          },
          "geo": {
           "bgcolor": "white",
           "lakecolor": "white",
           "landcolor": "#E5ECF6",
           "showlakes": true,
           "showland": true,
           "subunitcolor": "white"
          },
          "hoverlabel": {
           "align": "left"
          },
          "hovermode": "closest",
          "mapbox": {
           "style": "light"
          },
          "paper_bgcolor": "white",
          "plot_bgcolor": "#E5ECF6",
          "polar": {
           "angularaxis": {
            "gridcolor": "white",
            "linecolor": "white",
            "ticks": ""
           },
           "bgcolor": "#E5ECF6",
           "radialaxis": {
            "gridcolor": "white",
            "linecolor": "white",
            "ticks": ""
           }
          },
          "scene": {
           "xaxis": {
            "backgroundcolor": "#E5ECF6",
            "gridcolor": "white",
            "gridwidth": 2,
            "linecolor": "white",
            "showbackground": true,
            "ticks": "",
            "zerolinecolor": "white"
           },
           "yaxis": {
            "backgroundcolor": "#E5ECF6",
            "gridcolor": "white",
            "gridwidth": 2,
            "linecolor": "white",
            "showbackground": true,
            "ticks": "",
            "zerolinecolor": "white"
           },
           "zaxis": {
            "backgroundcolor": "#E5ECF6",
            "gridcolor": "white",
            "gridwidth": 2,
            "linecolor": "white",
            "showbackground": true,
            "ticks": "",
            "zerolinecolor": "white"
           }
          },
          "shapedefaults": {
           "line": {
            "color": "#2a3f5f"
           }
          },
          "ternary": {
           "aaxis": {
            "gridcolor": "white",
            "linecolor": "white",
            "ticks": ""
           },
           "baxis": {
            "gridcolor": "white",
            "linecolor": "white",
            "ticks": ""
           },
           "bgcolor": "#E5ECF6",
           "caxis": {
            "gridcolor": "white",
            "linecolor": "white",
            "ticks": ""
           }
          },
          "title": {
           "x": 0.05
          },
          "xaxis": {
           "automargin": true,
           "gridcolor": "white",
           "linecolor": "white",
           "ticks": "",
           "title": {
            "standoff": 15
           },
           "zerolinecolor": "white",
           "zerolinewidth": 2
          },
          "yaxis": {
           "automargin": true,
           "gridcolor": "white",
           "linecolor": "white",
           "ticks": "",
           "title": {
            "standoff": 15
           },
           "zerolinecolor": "white",
           "zerolinewidth": 2
          }
         }
        },
        "title": {
         "text": "Relationship between R&D Investment and Revenue"
        },
        "xaxis": {
         "anchor": "y",
         "domain": [
          0,
          1
         ],
         "title": {
          "text": "R&D Investment"
         }
        },
        "yaxis": {
         "anchor": "x",
         "domain": [
          0,
          1
         ],
         "title": {
          "text": "Revenue"
         }
        }
       }
      }
     },
     "metadata": {},
     "output_type": "display_data"
    },
    {
     "name": "stdout",
     "output_type": "stream",
     "text": [
      "                            OLS Regression Results                            \n",
      "==============================================================================\n",
      "Dep. Variable:              Revenue_Y   R-squared:                       0.587\n",
      "Model:                            OLS   Adj. R-squared:                  0.546\n",
      "Method:                 Least Squares   F-statistic:                     14.22\n",
      "Date:                Tue, 11 Feb 2025   Prob (F-statistic):            0.00365\n",
      "Time:                        22:41:55   Log-Likelihood:                -115.04\n",
      "No. Observations:                  12   AIC:                             234.1\n",
      "Df Residuals:                      10   BIC:                             235.1\n",
      "Df Model:                           1                                         \n",
      "Covariance Type:            nonrobust                                         \n",
      "================================================================================\n",
      "                   coef    std err          t      P>|t|      [0.025      0.975]\n",
      "--------------------------------------------------------------------------------\n",
      "const         4393.4525   2400.684      1.830      0.097    -955.604    9742.509\n",
      "Investment_X     1.7601      0.467      3.772      0.004       0.720       2.800\n",
      "==============================================================================\n",
      "Omnibus:                        3.268   Durbin-Watson:                   1.531\n",
      "Prob(Omnibus):                  0.195   Jarque-Bera (JB):                1.527\n",
      "Skew:                           0.873   Prob(JB):                        0.466\n",
      "Kurtosis:                       3.081   Cond. No.                     1.11e+04\n",
      "==============================================================================\n",
      "\n",
      "Notes:\n",
      "[1] Standard Errors assume that the covariance matrix of the errors is correctly specified.\n",
      "[2] The condition number is large, 1.11e+04. This might indicate that there are\n",
      "strong multicollinearity or other numerical problems.\n",
      "\n",
      "Model Interpretation:\n",
      "Regression equation: Y = 4393.45 + 1.76X\n",
      "Coefficient of determination (R²): 0.587\n",
      "Model p-value: 0.00365\n",
      "The slope coefficient indicates that for each additional euro invested in R&D, revenue increases by 1.76 euros.\n"
     ]
    },
    {
     "name": "stderr",
     "output_type": "stream",
     "text": [
      "c:\\Users\\pablo\\anaconda3\\Lib\\site-packages\\scipy\\stats\\_stats_py.py:1806: UserWarning:\n",
      "\n",
      "kurtosistest only valid for n>=20 ... continuing anyway, n=12\n",
      "\n"
     ]
    }
   ],
   "source": [
    "import pandas as pd\n",
    "import plotly.express as px\n",
    "import statsmodels.api as sm\n",
    "\n",
    "# Create DataFrame with data extracted from the PDF\n",
    "data = {\n",
    "    \"Revenue_Y\": [8111, 7462, 9030, 13505, 14801, 10664, 6005, 5853, 19720, 11759, 18640, 23388],\n",
    "    \"Investment_X\": [373, 4242, 4115, 5860, 5833, 6002, 1837, 1393, 7829, 5278, 3423, 8481]\n",
    "}\n",
    "\n",
    "df = pd.DataFrame(data)\n",
    "\n",
    "# Fit linear regression model\n",
    "X = sm.add_constant(df[\"Investment_X\"])  # Add constant for intercept term\n",
    "y = df[\"Revenue_Y\"]\n",
    "model = sm.OLS(y, X).fit()\n",
    "\n",
    "# Visualize data in a scatter plot with a trendline\n",
    "fig = px.scatter(df, x=\"Investment_X\", y=\"Revenue_Y\", trendline=\"ols\", \n",
    "                 title=\"Relationship between R&D Investment and Revenue\",\n",
    "                 labels={\"Investment_X\": \"R&D Investment\", \"Revenue_Y\": \"Revenue\"})\n",
    "fig.show()\n",
    "\n",
    "\n",
    "# Display model summary\n",
    "print(model.summary())\n",
    "\n",
    "# Regression interpretation\n",
    "print(\"\\nModel Interpretation:\")\n",
    "print(f\"Regression equation: Y = {model.params[0]:.2f} + {model.params[1]:.2f}X\")\n",
    "print(f\"Coefficient of determination (R²): {model.rsquared:.3f}\")\n",
    "print(f\"Model p-value: {model.pvalues[1]:.5f}\")\n",
    "print(f\"The slope coefficient indicates that for each additional euro invested in R&D, revenue increases by {model.params[1]:.2f} euros.\")\n"
   ]
  },
  {
   "cell_type": "markdown",
   "metadata": {},
   "source": [
    "**2. Statement for Simple Linear Regression (SLR) in Python with pandas and plotly**  \n",
    "\n",
    "The objective of this exercise is to analyze the relationship between **wheat production (X, in tons)** and the **price of flour (Y, in Euros)** using a **simple linear regression model**. The dataset required for this analysis is provided in the PDF file **Regresion_ANOVA_MTD_2021_2022.pdf**, specifically in the section containing the **table with wheat production and flour price data**. We will use **pandas** for data manipulation and analysis, along with **plotly** for interactive visualization of the results.  \n",
    "\n",
    "This analysis should include an initial statistical exploration of the data, fitting a linear regression model, generating a scatter plot with the fitted line, and adding a **text box in the visualization** that displays the regression equation and the coefficient of determination ($R^2$). Additionally, we will evaluate the model error and determine the reliability of our predictions.  \n",
    "\n",
    "**Tasks to Complete**  \n",
    "\n",
    "1. **Represent both variables in a Scatter Plot**  \n",
    "   - Extract the dataset from the **table containing wheat production (X) and flour price (Y)** in the **Regresion_ANOVA_MTD_2021_2022.pdf** file.  \n",
    "   - Enter the **wheat production and flour price** data into a **pandas DataFrame**.  \n",
    "   - Generate an **interactive scatter plot using plotly** to visualize the relationship between **wheat production (X)** and **flour price (Y)**.  \n",
    "   - Analyze the scatter plot and describe what kind of relationship you observe between the variables.  \n",
    "\n",
    "2. **Calculate the Regression Model**  \n",
    "   - Use the **least squares method** to determine the regression coefficients:  \n",
    "     - **Slope ($\\beta_1$)**: Measures how the price of flour changes based on wheat production.  \n",
    "     - **Intercept ($\\beta_0$)**: Represents the expected price of flour when wheat production is zero.  \n",
    "   - Compute the **coefficient of determination ($R^2$)** to evaluate the model's accuracy.  \n",
    "   - Display the **regression equation** on the scatter plot.  \n",
    "\n",
    "3. **Predict the Price of Flour for 45 Tons of Wheat Production**  \n",
    "   - Use the regression equation $Y = \\beta_0 + \\beta_1 X$ to predict the flour price when **wheat production reaches 45 tons**.  \n",
    "   - Display the predicted value in a **text box within the scatter plot**.  \n",
    "\n",
    "4. **Calculate the Model Error**  \n",
    "   - Compute the sum of squared errors (SSE):  \n",
    "     $$\n",
    "     \\sum (Y - Y')^2\n",
    "     $$\n",
    "   - Display the model error in the output.  \n",
    "\n",
    "5. **Assess the Reliability of the Prediction**  \n",
    "   - Evaluate the error and $R^2$ value to determine if the model provides reliable predictions.  \n",
    "   - Conclude whether the prediction for 45 tons of wheat production is **trustworthy** based on the accuracy of the model.  "
   ]
  },
  {
   "cell_type": "code",
   "execution_count": 2,
   "metadata": {},
   "outputs": [
    {
     "name": "stdout",
     "output_type": "stream",
     "text": [
      "\n",
      "Prediction:\n",
      "For an R&D investment of 7000 euros, the predicted revenue is 16714.02 euros.\n"
     ]
    }
   ],
   "source": [
    "# Predict revenue for a new R&D investment of 7000 euros\n",
    "new_investment = 7000\n",
    "predicted_revenue = model.predict([1, new_investment])[0]\n",
    "\n",
    "print(\"\\nPrediction:\")\n",
    "print(f\"For an R&D investment of {new_investment} euros, the predicted revenue is {predicted_revenue:.2f} euros.\")\n"
   ]
  },
  {
   "cell_type": "markdown",
   "metadata": {},
   "source": [
    "### **Artificial Intelligence Usage Statement**  \n",
    "\n",
    "\"I solemnly declare that in the completion of this activity:  \n",
    "\n",
    "X I have not used any artificial intelligence tools at any stage of the process.  \n",
    "\n",
    "☐ I have used artificial intelligence in the following way (specify): _______________.\""
   ]
  }
 ],
 "metadata": {
  "kernelspec": {
   "display_name": "base",
   "language": "python",
   "name": "python3"
  },
  "language_info": {
   "codemirror_mode": {
    "name": "ipython",
    "version": 3
   },
   "file_extension": ".py",
   "mimetype": "text/x-python",
   "name": "python",
   "nbconvert_exporter": "python",
   "pygments_lexer": "ipython3",
   "version": "3.11.5"
  }
 },
 "nbformat": 4,
 "nbformat_minor": 2
}
