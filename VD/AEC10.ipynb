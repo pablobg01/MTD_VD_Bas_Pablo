{
 "cells": [
  {
   "cell_type": "markdown",
   "metadata": {},
   "source": [
    "# AEC10 - Angular assessment: dynamic user list with component communication and styling\n",
    "\n"
   ]
  },
  {
   "cell_type": "markdown",
   "metadata": {},
   "source": [
    "---"
   ]
  },
  {
   "cell_type": "markdown",
   "metadata": {},
   "source": [
    "At the beginning of this session, you will create a **new Angular project** named `AEC10` inside the folder corresponding to **week10**. Your task is to develop the application according to the instructions outlined in the two exam prompts provided:\n",
    "\n",
    "1. A user list with basic parent-child communication  \n",
    "2. A user list with state control and dynamic updates\n",
    "\n",
    "This exercise is part of your **continuous assessment**, so it is important that all requirements are correctly implemented. Make sure to use `@Input` and `@Output` for component communication, apply dynamic styles with `ngClass` and `ngStyle`, and ensure that users can toggle their active state with proper visual feedback. Test your application carefully before submitting it.\n",
    "\n",
    "You must **commit and push** your completed work to the repository **no later than April 4 at 11:59 PM**."
   ]
  },
  {
   "cell_type": "markdown",
   "metadata": {},
   "source": [
    "---"
   ]
  },
  {
   "cell_type": "markdown",
   "metadata": {},
   "source": [
    "**1. User List with Basic Communication**\n",
    "\n",
    "**Objective:**  \n",
    "Build an Angular application that displays a list of users using `*ngFor` and enables communication between parent and child components.\n",
    "\n",
    "**Requirements:**\n",
    "\n",
    "1. Create a child component named `usuario`.\n",
    "2. In the parent component, define a list of user objects with the fields: `id`, `nombre`, and `activo`.\n",
    "3. Use `@Input` to send each user’s data from the parent to the child component.\n",
    "4. In the child, display the user’s name and status (active/inactive), applying dynamic styles using `ngClass` and `ngStyle`.\n",
    "5. Add a button in the child component that emits a greeting to the parent using `@Output`.\n",
    "6. Display the received greeting in the parent component.\n",
    "\n"
   ]
  },
  {
   "cell_type": "markdown",
   "metadata": {},
   "source": [
    "**2. User List with State Toggle**\n",
    "\n",
    "**Objective:**  \n",
    "Extend the functionality from the previous exercise to allow each user to toggle their active/inactive state from the child component.\n",
    "\n",
    "**Requirements:**\n",
    "\n",
    "1. Add a second button in the child component to toggle the user's active state.\n",
    "2. Use `@Output` to emit the user’s ID to the parent.\n",
    "3. In the parent component, update the user’s active state based on the emitted ID.\n",
    "4. Ensure that the change is reflected in both the dynamic styles and button text.\n",
    "5. *(Optional)* Use different background colors for active and inactive users."
   ]
  }
 ],
 "metadata": {
  "language_info": {
   "name": "python"
  }
 },
 "nbformat": 4,
 "nbformat_minor": 2
}
