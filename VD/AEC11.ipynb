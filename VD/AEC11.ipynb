{
 "cells": [
  {
   "cell_type": "markdown",
   "id": "94f14bf5",
   "metadata": {},
   "source": [
    "# AEC11 - User management with Angular\n",
    "\n",
    "**Objective:** Simulate a REST API using `json-server` and consume it from an Angular project through a custom service.\n",
    "\n",
    "**Instructions:**\n",
    "\n",
    "1. **Simulate a local database:**  \n",
    "   - Install `json-server` globally if you don't have it.  \n",
    "   - Create a `db.json` file with a collection of users.  \n",
    "   - Run the server to simulate a REST API available at `http://localhost:3000`.\n",
    "\n",
    "2. **Create a service in Angular (`usuario.service.ts`):**  \n",
    "   - Define the `Usuario` interface.  \n",
    "   - Implement methods to get, create, update, and delete users from the simulated API.\n",
    "\n",
    "3. **Integrate the service into a component (`usuarios.component.ts`):**  \n",
    "   - Display the list of users.  \n",
    "   - Allow adding, updating, and deleting users using buttons in the view.\n",
    "\n",
    "4. **Develop a simple view (`usuarios.component.html`):**  \n",
    "   - Show users in a list format.  \n",
    "   - Include buttons to perform CRUD operations (Create, Read, Update, Delete).\n",
    "\n",
    "**Expected outcome:**  \n",
    "A small working Angular application that interacts with a simulated API using a custom service to manage users."
   ]
  }
 ],
 "metadata": {
  "language_info": {
   "name": "python"
  }
 },
 "nbformat": 4,
 "nbformat_minor": 5
}
