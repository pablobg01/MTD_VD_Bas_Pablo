{
  "cells": [
    {
      "cell_type": "markdown",
      "metadata": {
        "id": "bcACLfJDgi-b"
      },
      "source": [
        "# **VD - PC1 (official): JavaScript Basics and Data Visualization**  \n",
        "**Duration:** 2 hours  \n",
        "\n"
      ]
    },
    {
      "cell_type": "markdown",
      "metadata": {
        "id": "m4KgiBOTgi-d"
      },
      "source": [
        "**IMPORTANT: Attendance Requirements and Exam Validity**  \n",
        "- The validity of this test is **subject to meeting the minimum attendance requirement of 60%** throughout the course.  \n",
        "- Students who currently have an attendance rate **below 60%** must submit a **report** detailing:  \n",
        "  - **Their current attendance percentage**.  \n",
        "  - **The specific days they need to attend** in order to reach at least 60% by the end of the course.  \n",
        "- During the week of **May 9**, the instructor will confirm which students will continue under **continuous evaluation** and which will be transferred to the **extraordinary exam**.  \n",
        "- **Students who do not meet the attendance requirement by the final review will not be eligible for continuous evaluation.**  \n",
        "\n",
        "**Instructions:**  \n",
        "- Complete the exercises in **Jupyter Notebook** using the **Node.js Kernel (JavaScript)**.  \n",
        "- Make sure to execute your code to verify correctness before moving on to the next exercise.  \n",
        "- **You may only refer to printed notes.** The use of electronic devices, the internet, digital books, or any other digital reference materials is strictly prohibited.  \n",
        "- **The use of artificial intelligence (AI) tools is strictly prohibited.** This includes, but is not limited to, ChatGPT, Copilot, Bard, or any other code-generation or online assistance tools.  \n",
        "- Each question is worth **1 point**, for a total of **10 points**.  \n",
        "- Code clarity and readability will be considered in the evaluation. Write clean, well-structured code with comments when necessary.  \n",
        "- Communication with other students during the test is not allowed. Any attempt at plagiarism, use of unauthorized materials, or violation of these rules will result in a score of zero.  \n",
        "- **Each student may ask only one question to the instructor.** Any additional question will result in a **0.5-point deduction** from the final score.  \n",
        "\n",
        "**Commitment Declaration**  \n",
        "Before submitting the test, each student must read and confirm the following statements:  \n",
        "\n",
        "☐ **Attendance Commitment**: I acknowledge that if my attendance is currently below 60%, I must submit a report detailing my current percentage and the specific days I need to attend to reach the minimum by the end of the course. I commit to meeting this requirement.  \n",
        "\n",
        "X **AI Non-Usage Declaration**: I confirm that I have not used any AI tools (such as ChatGPT, Copilot, Bard, or similar) during this test. I understand that if I am found to have used AI assistance, I will be sanctioned, and my test will be invalidated.  \n",
        "\n",
        "**Note:** Be sure to save your work periodically to prevent any loss of progress.  "
      ]
    },
    {
      "cell_type": "markdown",
      "metadata": {
        "id": "Lx1ydufwgi-g"
      },
      "source": [
        "---\n",
        "---"
      ]
    },
    {
      "cell_type": "markdown",
      "metadata": {
        "id": "Yt3Z-3lwgi-h"
      },
      "source": [
        "### **Question 1: Function to Check Even or Odd Numbers**  \n",
        "Write a function named `isEven(number)` that takes an integer and returns `\"Even\"` if the number is even and `\"Odd\"` if it is odd.  \n",
        "\n"
      ]
    },
    {
      "cell_type": "code",
      "execution_count": null,
      "metadata": {
        "vscode": {
          "languageId": "javascript"
        },
        "colab": {
          "base_uri": "https://localhost:8080/",
          "height": 69
        },
        "id": "b2K2cEAOgi-h",
        "outputId": "3000da5f-4366-492b-ee89-89fe2935b4c2"
      },
      "outputs": [
        {
          "output_type": "display_data",
          "data": {
            "text/plain": [
              "<IPython.core.display.Javascript object>"
            ],
            "application/javascript": [
              "\n",
              "function isEven(number) {\n",
              "  if (number % 2 === 0) {\n",
              "    return \"Even\";\n",
              "  } else {\n",
              "    return \"Odd\";\n",
              "  }\n",
              "}\n",
              "\n",
              "// Crear un div donde mostrar el resultado\n",
              "const output = document.createElement(\"div\");\n",
              "\n",
              "// Agregar los resultados\n",
              "output.innerHTML += \"2 es: \" + isEven(2) + \"<br>\";\n",
              "output.innerHTML += \"7 es: \" + isEven(7) + \"<br>\";\n",
              "output.innerHTML += \"0 es: \" + isEven(0) + \"<br>\";\n",
              "\n",
              "// Mostrar en la celda\n",
              "element.appendChild(output);\n",
              "\n"
            ]
          },
          "metadata": {}
        }
      ],
      "source": [
        "%%javascript\n",
        "\n",
        "function isEven(number) {\n",
        "  if (number % 2 === 0) {\n",
        "    return \"Even\";\n",
        "  } else {\n",
        "    return \"Odd\";\n",
        "  }\n",
        "}\n",
        "\n",
        "// Create a div to display the result\n",
        "const output = document.createElement(\"div\");\n",
        "\n",
        "// Add the results\n",
        "output.innerHTML += \"2 es: \" + isEven(2) + \"<br>\";\n",
        "output.innerHTML += \"7 es: \" + isEven(7) + \"<br>\";\n",
        "output.innerHTML += \"0 es: \" + isEven(0) + \"<br>\";\n",
        "\n",
        "// Show result in cell\n",
        "element.appendChild(output);\n",
        "\n"
      ]
    },
    {
      "cell_type": "markdown",
      "metadata": {
        "id": "iUvjyTqAgi-j"
      },
      "source": [
        "### **Question 2: Array Manipulation**  \n",
        "Given the following array, perform the following operations:  \n",
        "1. Add the number `99` at the **beginning** of the array.  \n",
        "2. Remove the **last** element from the array.  \n",
        "3. Print the modified array.  "
      ]
    },
    {
      "cell_type": "code",
      "execution_count": null,
      "metadata": {
        "vscode": {
          "languageId": "javascript"
        },
        "colab": {
          "base_uri": "https://localhost:8080/",
          "height": 34
        },
        "id": "Ax2fy040gi-j",
        "outputId": "e2f5f598-e8bc-4a71-9d41-33295fca9620"
      },
      "outputs": [
        {
          "output_type": "display_data",
          "data": {
            "text/plain": [
              "<IPython.core.display.Javascript object>"
            ],
            "application/javascript": [
              "\n",
              "let values = [5, 10, 15, 20, 25];\n",
              "\n",
              "let numbers = [10, 20, 30, 40];\n",
              "\n",
              "// 1. Add 99 to the beginning\n",
              "numbers.unshift(99);\n",
              "\n",
              "// 2. Delete last element\n",
              "numbers.pop();\n",
              "\n",
              "// 3. Show result array\n",
              "const output = document.createElement(\"div\");\n",
              "output.innerHTML = \"Result Array: [\" + numbers.join(\", \") + \"]\";\n",
              "element.appendChild(output);\n"
            ]
          },
          "metadata": {}
        }
      ],
      "source": [
        "%%javascript\n",
        "\n",
        "let values = [5, 10, 15, 20, 25];\n",
        "\n",
        "let numbers = [10, 20, 30, 40];\n",
        "\n",
        "// 1. Add 99 to the beginning\n",
        "numbers.unshift(99);\n",
        "\n",
        "// 2. Delete last element\n",
        "numbers.pop();\n",
        "\n",
        "// 3. Show result array\n",
        "const output = document.createElement(\"div\");\n",
        "output.innerHTML = \"Result Array: [\" + numbers.join(\", \") + \"]\";\n",
        "element.appendChild(output);\n"
      ]
    },
    {
      "cell_type": "markdown",
      "metadata": {
        "id": "kROGCxb8gi-k"
      },
      "source": [
        "### **Question 3: Function to Reverse a String**  \n",
        "Write a function named `reverseString(text)` that receives a string and returns it in reversed order.  \n",
        "\n"
      ]
    },
    {
      "cell_type": "code",
      "execution_count": null,
      "metadata": {
        "vscode": {
          "languageId": "javascript"
        },
        "colab": {
          "base_uri": "https://localhost:8080/",
          "height": 69
        },
        "id": "N7L7X_4dgi-k",
        "outputId": "efacebf6-6369-46bd-c568-bc2f883e0649"
      },
      "outputs": [
        {
          "output_type": "display_data",
          "data": {
            "text/plain": [
              "<IPython.core.display.Javascript object>"
            ],
            "application/javascript": [
              "\n",
              "function reverseString(text) {\n",
              "  return text.split(\"\").reverse().join(\"\");\n",
              "}\n",
              "\n",
              "// Crear contenedor de salida\n",
              "const output = document.createElement(\"div\");\n",
              "\n",
              "// Probar con ejemplos\n",
              "output.innerHTML += \"hola → \" + reverseString(\"hola\") + \"<br>\";\n",
              "output.innerHTML += \"JavaScript → \" + reverseString(\"JavaScript\") + \"<br>\";\n",
              "output.innerHTML += \"1234 → \" + reverseString(\"1234\") + \"<br>\";\n",
              "\n",
              "// Mostrar resultado en la celda\n",
              "element.appendChild(output);\n",
              "\n"
            ]
          },
          "metadata": {}
        }
      ],
      "source": [
        "%%javascript\n",
        "\n",
        "function reverseString(text) {\n",
        "  return text.split(\"\").reverse().join(\"\");\n",
        "}\n",
        "\n",
        "// Create output container\n",
        "const output = document.createElement(\"div\");\n",
        "\n",
        "// Example\n",
        "output.innerHTML += \"hola → \" + reverseString(\"hola\") + \"<br>\";\n",
        "\n",
        "// Show result in cell\n",
        "element.appendChild(output);\n",
        "\n"
      ]
    },
    {
      "cell_type": "markdown",
      "metadata": {
        "id": "6VSqBVWJgi-l"
      },
      "source": [
        "### **Question 4: Object Manipulation**  \n",
        "Given the following JavaScript object, modify the `price` property to **750** and add a new property `stock: true`.  \n",
        "\n"
      ]
    },
    {
      "cell_type": "code",
      "execution_count": null,
      "metadata": {
        "vscode": {
          "languageId": "javascript"
        },
        "colab": {
          "base_uri": "https://localhost:8080/",
          "height": 34
        },
        "id": "PE1hh0pTgi-l",
        "outputId": "10659fae-57ca-4b2b-a750-72214cbe6f28"
      },
      "outputs": [
        {
          "output_type": "display_data",
          "data": {
            "text/plain": [
              "<IPython.core.display.Javascript object>"
            ],
            "application/javascript": [
              "\n",
              "let product = {\n",
              "  name: \"Laptop\",\n",
              "  price: 900,\n",
              "  brand: \"TechCo\"\n",
              "};\n",
              "\n",
              "// 1. Modify the price\n",
              "product.price = 750;\n",
              "\n",
              "// 2. add new property\n",
              "product.stock = true;\n",
              "\n",
              "// Show complet object\n",
              "const output = document.createElement(\"div\");\n",
              "output.innerHTML = \"Final product: \" + JSON.stringify(product, null, 2);\n",
              "element.appendChild(output);\n"
            ]
          },
          "metadata": {}
        }
      ],
      "source": [
        "%%javascript\n",
        "\n",
        "let product = {\n",
        "  name: \"Laptop\",\n",
        "  price: 900,\n",
        "  brand: \"TechCo\"\n",
        "};\n",
        "\n",
        "// 1. Modify the price\n",
        "product.price = 750;\n",
        "\n",
        "// 2. add new property\n",
        "product.stock = true;\n",
        "\n",
        "// Show complet object\n",
        "const output = document.createElement(\"div\");\n",
        "output.innerHTML = \"Final product: \" + JSON.stringify(product, null, 2);\n",
        "element.appendChild(output);\n"
      ]
    },
    {
      "cell_type": "markdown",
      "metadata": {
        "id": "CVxCw_v4gi-m"
      },
      "source": [
        "### **Question 5: Function to Find Maximum in an Array**  \n",
        "Write a function named `findMax(numbers)` that receives an array of numbers and returns the largest value.  "
      ]
    },
    {
      "cell_type": "code",
      "execution_count": null,
      "metadata": {
        "vscode": {
          "languageId": "javascript"
        },
        "colab": {
          "base_uri": "https://localhost:8080/",
          "height": 34
        },
        "id": "tHa7dtX9gi-m",
        "outputId": "39c19f4b-17ab-4d42-b2ed-8e9929cbecac"
      },
      "outputs": [
        {
          "output_type": "display_data",
          "data": {
            "text/plain": [
              "<IPython.core.display.Javascript object>"
            ],
            "application/javascript": [
              "\n",
              "function findMax(numbers) {\n",
              "  return Math.max(...numbers);\n",
              "}\n",
              "\n",
              "const values = [5, 12, 8, 21, 6];\n",
              "const output = document.createElement(\"div\");\n",
              "output.innerHTML = \"El número más grande es: \" + findMax(values);\n",
              "element.appendChild(output);\n"
            ]
          },
          "metadata": {}
        }
      ],
      "source": [
        "%%javascript\n",
        "\n",
        "function findMax(numbers) {\n",
        "  return Math.max(...numbers);\n",
        "}\n",
        "\n",
        "const values = [5, 12, 8, 21, 6];\n",
        "const output = document.createElement(\"div\");\n",
        "output.innerHTML = \"The largest value is: \" + findMax(values);\n",
        "element.appendChild(output);\n"
      ]
    },
    {
      "cell_type": "markdown",
      "metadata": {
        "id": "ads0urnngi-n"
      },
      "source": [
        "### **Question 6: Using a Map**  \n",
        "1. Create a **Map** that stores the prices of three products:  \n",
        "   - `\"Monitor\"`: `300`  \n",
        "   - `\"Keyboard\"`: `50`  \n",
        "   - `\"Mouse\"`: `25`  \n",
        "2. Retrieve and print the price of the `\"Keyboard\"`.  \n",
        "3. Remove the `\"Mouse\"` from the Map.  \n",
        "4. Print the final state of the Map.  "
      ]
    },
    {
      "cell_type": "code",
      "execution_count": 16,
      "metadata": {
        "vscode": {
          "languageId": "javascript"
        },
        "colab": {
          "base_uri": "https://localhost:8080/",
          "height": 86
        },
        "id": "kegc2THjgi-n",
        "outputId": "02e1d06e-861c-46ae-aae7-da6e23b577ed"
      },
      "outputs": [
        {
          "output_type": "display_data",
          "data": {
            "text/plain": [
              "<IPython.core.display.Javascript object>"
            ],
            "application/javascript": [
              "\n",
              "// 1. Crear el Map\n",
              "let prices = new Map();\n",
              "prices.set(\"Monitor\", 300);\n",
              "prices.set(\"Keyboard\", 50);\n",
              "prices.set(\"Mouse\", 25);\n",
              "\n",
              "// 2. Obtain keyboard price\n",
              "let keyboardPrice = prices.get(\"Keyboard\");\n",
              "\n",
              "// 3. Delete \"Mouse\"\n",
              "prices.delete(\"Mouse\");\n",
              "\n",
              "// 4. Show final map\n",
              "let output = document.createElement(\"div\");\n",
              "output.innerHTML += \"Keyboard price: \" + keyboardPrice + \"<br>\";\n",
              "output.innerHTML += \"Map content:<br>\";\n",
              "\n",
              "for (let [product, price] of prices) {\n",
              "  output.innerHTML += product + \": \" + price + \"<br>\";\n",
              "}\n",
              "\n",
              "element.appendChild(output);\n"
            ]
          },
          "metadata": {}
        }
      ],
      "source": [
        "%%javascript\n",
        "\n",
        "// 1. Crear el Map\n",
        "let prices = new Map();\n",
        "prices.set(\"Monitor\", 300);\n",
        "prices.set(\"Keyboard\", 50);\n",
        "prices.set(\"Mouse\", 25);\n",
        "\n",
        "// 2. Obtain keyboard price\n",
        "let keyboardPrice = prices.get(\"Keyboard\");\n",
        "\n",
        "// 3. Delete \"Mouse\"\n",
        "prices.delete(\"Mouse\");\n",
        "\n",
        "// 4. Show final map\n",
        "let output = document.createElement(\"div\");\n",
        "output.innerHTML += \"Keyboard price: \" + keyboardPrice + \"<br>\";\n",
        "output.innerHTML += \"Map content:<br>\";\n",
        "\n",
        "for (let [product, price] of prices) {\n",
        "  output.innerHTML += product + \": \" + price + \"<br>\";\n",
        "}\n",
        "\n",
        "element.appendChild(output);\n"
      ]
    },
    {
      "cell_type": "markdown",
      "metadata": {
        "id": "CE9jcTpkgi-o"
      },
      "source": [
        "### **Question 7: Importing a Module for Data Normalization**  \n",
        "Create a module named **\"normalization.js\"** that exports a function `normalize(data)`, which normalizes an array using **min-max scaling**:  \n",
        "$$\n",
        "\\text{normalized} = \\frac{x - \\text{min}}{\\text{max} - \\text{min}}\n",
        "$$\n",
        "Then, import the module and use it with the array `[25, 50, 75, 100]`.  "
      ]
    },
    {
      "cell_type": "code",
      "execution_count": null,
      "metadata": {
        "vscode": {
          "languageId": "javascript"
        },
        "id": "b4vZ5yZWgi-o"
      },
      "outputs": [],
      "source": [
        "// Write your code here:"
      ]
    },
    {
      "cell_type": "markdown",
      "metadata": {
        "id": "Dv9N9KXXgi-o"
      },
      "source": [
        "### **Question 8: Stack Implementation (LIFO)**  \n",
        "Implement a class `Stack` with the following methods:  \n",
        "- `push(element)`: Adds an element to the stack.  \n",
        "- `pop()`: Removes and returns the top element.  \n",
        "- `peek()`: Returns the top element without removing it.  \n",
        "- `isEmpty()`: Returns `true` if the stack is empty, `false` otherwise.  \n",
        "\n"
      ]
    },
    {
      "cell_type": "code",
      "execution_count": null,
      "metadata": {
        "vscode": {
          "languageId": "javascript"
        },
        "colab": {
          "base_uri": "https://localhost:8080/",
          "height": 69
        },
        "id": "lhS3wzHhgi-p",
        "outputId": "824dc5f4-e26d-4d07-d437-80da365110d7"
      },
      "outputs": [
        {
          "output_type": "display_data",
          "data": {
            "text/plain": [
              "<IPython.core.display.Javascript object>"
            ],
            "application/javascript": [
              "\n",
              "class Stack {\n",
              "  constructor() {\n",
              "    this.items = [];\n",
              "  }\n",
              "\n",
              "  push(element) {\n",
              "    this.items.push(element);\n",
              "  }\n",
              "\n",
              "  pop() {\n",
              "    return this.items.pop();\n",
              "  }\n",
              "\n",
              "  peek() {\n",
              "    return this.items[this.items.length - 1];\n",
              "  }\n",
              "\n",
              "  isEmpty() {\n",
              "    return this.items.length === 0;\n",
              "  }\n",
              "}\n",
              "\n",
              "// try class\n",
              "const stack = new Stack();\n",
              "stack.push(10);\n",
              "stack.push(20);\n",
              "stack.push(30);\n",
              "const output = document.createElement(\"div\");\n",
              "\n",
              "output.innerHTML += \"Top: \" + stack.peek() + \"<br>\";     // 30\n",
              "stack.pop();\n",
              "output.innerHTML += \"Top after pop: \" + stack.peek() + \"<br>\"; // 20\n",
              "output.innerHTML += \"Is empty?: \" + stack.isEmpty();  // false\n",
              "\n",
              "element.appendChild(output);\n"
            ]
          },
          "metadata": {}
        }
      ],
      "source": [
        "%%javascript\n",
        "\n",
        "class Stack {\n",
        "  constructor() {\n",
        "    this.items = [];\n",
        "  }\n",
        "\n",
        "  push(element) {\n",
        "    this.items.push(element);\n",
        "  }\n",
        "\n",
        "  pop() {\n",
        "    return this.items.pop();\n",
        "  }\n",
        "\n",
        "  peek() {\n",
        "    return this.items[this.items.length - 1];\n",
        "  }\n",
        "\n",
        "  isEmpty() {\n",
        "    return this.items.length === 0;\n",
        "  }\n",
        "}\n",
        "\n",
        "// try class\n",
        "const stack = new Stack();\n",
        "stack.push(10);\n",
        "stack.push(20);\n",
        "stack.push(30);\n",
        "const output = document.createElement(\"div\");\n",
        "\n",
        "output.innerHTML += \"Top: \" + stack.peek() + \"<br>\";     // 30\n",
        "stack.pop();\n",
        "output.innerHTML += \"Top after pop: \" + stack.peek() + \"<br>\"; // 20\n",
        "output.innerHTML += \"Is empty?: \" + stack.isEmpty();  // false\n",
        "\n",
        "element.appendChild(output);\n"
      ]
    },
    {
      "cell_type": "markdown",
      "metadata": {
        "id": "21mJNrEsgi-p"
      },
      "source": [
        "### **Question 9: Data Visualization (Scatter Plot with Plotly)**  \n",
        "Use **ijavascript-plotly** to create a scatter plot with the following data:  \n",
        "- X-axis values: `[1, 2, 3, 4, 5]`  \n",
        "- Y-axis values: `[10, 15, 20, 25, 30]`  "
      ]
    },
    {
      "cell_type": "code",
      "execution_count": null,
      "metadata": {
        "vscode": {
          "languageId": "javascript"
        },
        "id": "4CDpBt51gi-p"
      },
      "outputs": [],
      "source": [
        "const plotly = require(\"ijavascript-plotly\");\n",
        "\n",
        "// Write your code here:"
      ]
    },
    {
      "cell_type": "markdown",
      "metadata": {
        "id": "nwZtcWPogi-q"
      },
      "source": [
        "### **Question 10: Working with Dates Using `date-fns`**  \n",
        "1. Get the current date in the format `\"YYYY-MM-DD\"`.  \n",
        "2. Calculate the date **30 days before** today.  \n",
        "3. Print both dates in the console.  \n",
        "\n"
      ]
    },
    {
      "cell_type": "code",
      "execution_count": null,
      "metadata": {
        "vscode": {
          "languageId": "javascript"
        },
        "id": "2gCUNecsgi-q"
      },
      "outputs": [],
      "source": [
        "const { format, subDays } = require(\"date-fns\");\n",
        "\n",
        "// Write your code here:"
      ]
    },
    {
      "cell_type": "markdown",
      "metadata": {
        "id": "ehZ0cw13gi-r"
      },
      "source": [
        "---\n",
        "---"
      ]
    },
    {
      "cell_type": "markdown",
      "metadata": {
        "id": "7V53cHn-gi-r"
      },
      "source": [
        "## **Final Considerations**  \n",
        "- Each exercise must be executed in **Jupyter Notebook** using the **JavaScript (Node.js Kernel)**.  \n",
        "- Students may refer to their **printed notes**.  \n",
        "- Graphs and visualizations must be generated within the **Notebook**.  \n",
        "- The evaluation criteria include **correct implementation, syntax, and functionality**.  \n",
        "- The completed exam must be uploaded to Canvas before 2:30 PM.\n",
        "- Students only have one submission attempt and must upload only the .ipynb file."
      ]
    }
  ],
  "metadata": {
    "language_info": {
      "name": "python"
    },
    "colab": {
      "provenance": []
    },
    "kernelspec": {
      "name": "python3",
      "display_name": "Python 3"
    }
  },
  "nbformat": 4,
  "nbformat_minor": 0
}