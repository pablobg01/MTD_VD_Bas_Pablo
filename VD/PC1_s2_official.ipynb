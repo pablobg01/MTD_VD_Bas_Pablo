{
 "cells": [
  {
   "cell_type": "markdown",
   "metadata": {},
   "source": [
    "# **VD - PC1 (official): JavaScript Basics and Data Visualization**  \n",
    "**Duration:** 2 hours  \n",
    "\n"
   ]
  },
  {
   "cell_type": "markdown",
   "metadata": {},
   "source": [
    "**IMPORTANT: Attendance Requirements and Exam Validity**  \n",
    "- The validity of this test is **subject to meeting the minimum attendance requirement of 60%** throughout the course.  \n",
    "- Students who currently have an attendance rate **below 60%** must submit a **report** detailing:  \n",
    "  - **Their current attendance percentage**.  \n",
    "  - **The specific days they need to attend** in order to reach at least 60% by the end of the course.  \n",
    "- During the week of **May 9**, the instructor will confirm which students will continue under **continuous evaluation** and which will be transferred to the **extraordinary exam**.  \n",
    "- **Students who do not meet the attendance requirement by the final review will not be eligible for continuous evaluation.**  \n",
    "\n",
    "**Instructions:**  \n",
    "- Complete the exercises in **Jupyter Notebook** using the **Node.js Kernel (JavaScript)**.  \n",
    "- Make sure to execute your code to verify correctness before moving on to the next exercise.  \n",
    "- **You may only refer to printed notes.** The use of electronic devices, the internet, digital books, or any other digital reference materials is strictly prohibited.  \n",
    "- **The use of artificial intelligence (AI) tools is strictly prohibited.** This includes, but is not limited to, ChatGPT, Copilot, Bard, or any other code-generation or online assistance tools.  \n",
    "- Each question is worth **1 point**, for a total of **10 points**.  \n",
    "- Code clarity and readability will be considered in the evaluation. Write clean, well-structured code with comments when necessary.  \n",
    "- Communication with other students during the test is not allowed. Any attempt at plagiarism, use of unauthorized materials, or violation of these rules will result in a score of zero.  \n",
    "- **Each student may ask only one question to the instructor.** Any additional question will result in a **0.5-point deduction** from the final score.  \n",
    "\n",
    "**Commitment Declaration**  \n",
    "Before submitting the test, each student must read and confirm the following statements:  \n",
    "\n",
    "☐ **Attendance Commitment**: I acknowledge that if my attendance is currently below 60%, I must submit a report detailing my current percentage and the specific days I need to attend to reach the minimum by the end of the course. I commit to meeting this requirement.  \n",
    "\n",
    "☐ **AI Non-Usage Declaration**: I confirm that I have not used any AI tools (such as ChatGPT, Copilot, Bard, or similar) during this test. I understand that if I am found to have used AI assistance, I will be sanctioned, and my test will be invalidated.  \n",
    "\n",
    "**Note:** Be sure to save your work periodically to prevent any loss of progress.  "
   ]
  },
  {
   "cell_type": "markdown",
   "metadata": {},
   "source": [
    "---\n",
    "---"
   ]
  },
  {
   "cell_type": "markdown",
   "metadata": {},
   "source": [
    "### **Question 1: Function to Check Even or Odd Numbers**  \n",
    "Write a function named `isEven(number)` that takes an integer and returns `\"Even\"` if the number is even and `\"Odd\"` if it is odd.  \n",
    "\n"
   ]
  },
  {
   "cell_type": "code",
   "execution_count": null,
   "metadata": {
    "vscode": {
     "languageId": "javascript"
    }
   },
   "outputs": [],
   "source": [
    "// Write your code here:"
   ]
  },
  {
   "cell_type": "markdown",
   "metadata": {},
   "source": [
    "### **Question 2: Array Manipulation**  \n",
    "Given the following array, perform the following operations:  \n",
    "1. Add the number `99` at the **beginning** of the array.  \n",
    "2. Remove the **last** element from the array.  \n",
    "3. Print the modified array.  "
   ]
  },
  {
   "cell_type": "code",
   "execution_count": null,
   "metadata": {
    "vscode": {
     "languageId": "javascript"
    }
   },
   "outputs": [],
   "source": [
    "let values = [5, 10, 15, 20, 25];\n",
    "\n",
    "// Write your code here:"
   ]
  },
  {
   "cell_type": "markdown",
   "metadata": {},
   "source": [
    "### **Question 3: Function to Reverse a String**  \n",
    "Write a function named `reverseString(text)` that receives a string and returns it in reversed order.  \n",
    "\n"
   ]
  },
  {
   "cell_type": "code",
   "execution_count": null,
   "metadata": {
    "vscode": {
     "languageId": "javascript"
    }
   },
   "outputs": [],
   "source": [
    "// Write your code here:\n"
   ]
  },
  {
   "cell_type": "markdown",
   "metadata": {},
   "source": [
    "### **Question 4: Object Manipulation**  \n",
    "Given the following JavaScript object, modify the `price` property to **750** and add a new property `stock: true`.  \n",
    "\n"
   ]
  },
  {
   "cell_type": "code",
   "execution_count": null,
   "metadata": {
    "vscode": {
     "languageId": "javascript"
    }
   },
   "outputs": [],
   "source": [
    "let product = {\n",
    "    name: \"Laptop\",\n",
    "    price: 900,\n",
    "    brand: \"TechCo\"\n",
    "};\n",
    "\n",
    "// Write your code here:"
   ]
  },
  {
   "cell_type": "markdown",
   "metadata": {},
   "source": [
    "### **Question 5: Function to Find Maximum in an Array**  \n",
    "Write a function named `findMax(numbers)` that receives an array of numbers and returns the largest value.  "
   ]
  },
  {
   "cell_type": "code",
   "execution_count": null,
   "metadata": {
    "vscode": {
     "languageId": "javascript"
    }
   },
   "outputs": [],
   "source": [
    "// Write your code here:"
   ]
  },
  {
   "cell_type": "markdown",
   "metadata": {},
   "source": [
    "### **Question 6: Using a Map**  \n",
    "1. Create a **Map** that stores the prices of three products:  \n",
    "   - `\"Monitor\"`: `300`  \n",
    "   - `\"Keyboard\"`: `50`  \n",
    "   - `\"Mouse\"`: `25`  \n",
    "2. Retrieve and print the price of the `\"Keyboard\"`.  \n",
    "3. Remove the `\"Mouse\"` from the Map.  \n",
    "4. Print the final state of the Map.  "
   ]
  },
  {
   "cell_type": "code",
   "execution_count": null,
   "metadata": {
    "vscode": {
     "languageId": "javascript"
    }
   },
   "outputs": [],
   "source": [
    "// Write your code here:"
   ]
  },
  {
   "cell_type": "markdown",
   "metadata": {},
   "source": [
    "### **Question 7: Importing a Module for Data Normalization**  \n",
    "Create a module named **\"normalization.js\"** that exports a function `normalize(data)`, which normalizes an array using **min-max scaling**:  \n",
    "$$\n",
    "\\text{normalized} = \\frac{x - \\text{min}}{\\text{max} - \\text{min}}\n",
    "$$\n",
    "Then, import the module and use it with the array `[25, 50, 75, 100]`.  "
   ]
  },
  {
   "cell_type": "code",
   "execution_count": null,
   "metadata": {
    "vscode": {
     "languageId": "javascript"
    }
   },
   "outputs": [],
   "source": [
    "// Write your code here:"
   ]
  },
  {
   "cell_type": "markdown",
   "metadata": {},
   "source": [
    "### **Question 8: Stack Implementation (LIFO)**  \n",
    "Implement a class `Stack` with the following methods:  \n",
    "- `push(element)`: Adds an element to the stack.  \n",
    "- `pop()`: Removes and returns the top element.  \n",
    "- `peek()`: Returns the top element without removing it.  \n",
    "- `isEmpty()`: Returns `true` if the stack is empty, `false` otherwise.  \n",
    "\n"
   ]
  },
  {
   "cell_type": "code",
   "execution_count": null,
   "metadata": {
    "vscode": {
     "languageId": "javascript"
    }
   },
   "outputs": [],
   "source": [
    "// Write your code here:"
   ]
  },
  {
   "cell_type": "markdown",
   "metadata": {},
   "source": [
    "### **Question 9: Data Visualization (Scatter Plot with Plotly)**  \n",
    "Use **ijavascript-plotly** to create a scatter plot with the following data:  \n",
    "- X-axis values: `[1, 2, 3, 4, 5]`  \n",
    "- Y-axis values: `[10, 15, 20, 25, 30]`  "
   ]
  },
  {
   "cell_type": "code",
   "execution_count": null,
   "metadata": {
    "vscode": {
     "languageId": "javascript"
    }
   },
   "outputs": [],
   "source": [
    "const plotly = require(\"ijavascript-plotly\");\n",
    "\n",
    "// Write your code here:"
   ]
  },
  {
   "cell_type": "markdown",
   "metadata": {},
   "source": [
    "### **Question 10: Working with Dates Using `date-fns`**  \n",
    "1. Get the current date in the format `\"YYYY-MM-DD\"`.  \n",
    "2. Calculate the date **30 days before** today.  \n",
    "3. Print both dates in the console.  \n",
    "\n"
   ]
  },
  {
   "cell_type": "code",
   "execution_count": null,
   "metadata": {
    "vscode": {
     "languageId": "javascript"
    }
   },
   "outputs": [],
   "source": [
    "const { format, subDays } = require(\"date-fns\");\n",
    "\n",
    "// Write your code here:"
   ]
  },
  {
   "cell_type": "markdown",
   "metadata": {},
   "source": [
    "---\n",
    "---"
   ]
  },
  {
   "cell_type": "markdown",
   "metadata": {},
   "source": [
    "## **Final Considerations**  \n",
    "- Each exercise must be executed in **Jupyter Notebook** using the **JavaScript (Node.js Kernel)**.  \n",
    "- Students may refer to their **printed notes**.  \n",
    "- Graphs and visualizations must be generated within the **Notebook**.  \n",
    "- The evaluation criteria include **correct implementation, syntax, and functionality**.  \n",
    "- The completed exam must be uploaded to Canvas before 2:30 PM. \n",
    "- Students only have one submission attempt and must upload only the .ipynb file."
   ]
  }
 ],
 "metadata": {
  "language_info": {
   "name": "python"
  }
 },
 "nbformat": 4,
 "nbformat_minor": 2
}
