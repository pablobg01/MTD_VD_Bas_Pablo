{
 "cells": [
  {
   "cell_type": "markdown",
   "id": "fb4b210b",
   "metadata": {},
   "source": [
    "# Data Visualization: PC2 - Practical Exam\n",
    "**Creating a Scatter Plot in Angular with Plotly.js**\n",
    "\n",
    "Student name: ______________________________\n"
   ]
  },
  {
   "cell_type": "markdown",
   "id": "13df2f34",
   "metadata": {},
   "source": [
    "**Total: 40 points**\n",
    "\n",
    "**Objective:**\n",
    "Create a basic Angular application from scratch that displays a scatter plot using the Plotly.js library. The student will set up the project, install dependencies, build a chart component, and integrate it into the main application. In addition to providing functional code, students are expected to include clear and meaningful comments throughout their code. Failure to properly comment the code may result in a deduction of up to 5 points.\n",
    "\n",
    "\n",
    "---\n",
    "\n",
    "### **Part 1: Project Setup – 2.5 points**\n",
    "\n",
    "1. Create a new Angular project named `mySurname-scatter-app` using standalone components and no routing. Write your surname in mySurname.\n",
    "\n",
    "```bash\n",
    "ng new mySurname-scatter-app --standalone --routing=false --style=css\n",
    "```\n",
    "\n",
    "2. Navigate to the project directory:\n",
    "\n",
    "```bash\n",
    "cd mySurname-scatter-app\n",
    "```\n",
    "\n",
    "3. Install the Plotly.js library:\n",
    "\n",
    "```bash\n",
    "npm install plotly.js-dist\n",
    "```\n",
    "\n",
    "---\n",
    "\n",
    "### **Part 2: TypeScript Configuration – 2.5 points**\n",
    "\n",
    "1. Create a type declaration file so TypeScript can recognize the module:\n",
    "\n",
    "**Path:** `src/app/plotly.js-dist.d.ts`\n",
    "**Content:**\n",
    "\n",
    "```typescript\n",
    "declare module 'plotly.js-dist';\n",
    "```\n",
    "\n",
    "---\n",
    "\n",
    "### **Part 3: Scatter Plot Component – 10 points**\n",
    "\n",
    "1. Generate a standalone component called `scatter-plot`:\n",
    "\n",
    "```bash\n",
    "ng generate component scatter-plot --standalone\n",
    "```\n",
    "\n",
    "2. Modify `scatter-plot.component.ts` to display the scatter plot using Plotly:\n",
    "\n",
    "```typescript\n",
    "import { Component, AfterViewInit, ElementRef, ViewChild } from '@angular/core';\n",
    "import { CommonModule } from '@angular/common';\n",
    "import * as Plotly from 'plotly.js-dist';\n",
    "\n",
    "@Component({\n",
    "  selector: 'app-scatter-plot',\n",
    "  standalone: true,\n",
    "  imports: [CommonModule],\n",
    "  template: `\n",
    "    <div #plotElement style=\"width: 600px; height: 400px;\"></div>\n",
    "  `,\n",
    "  styles: []\n",
    "})\n",
    "export class ScatterPlotComponent implements AfterViewInit {\n",
    "  @ViewChild('plotElement') plotElement!: ElementRef;\n",
    "\n",
    "  constructor() {}\n",
    "\n",
    "  ngAfterViewInit(): void {\n",
    "    this.createScatterPlot();\n",
    "  }\n",
    "\n",
    "  createScatterPlot(): void {\n",
    "    const trace1 = {\n",
    "      x: [1, 2, 3, 4, 5],\n",
    "      y: [10, 15, 7, 17, 12],\n",
    "      mode: 'markers',\n",
    "      type: 'scatter',\n",
    "      name: 'Sample Data 1'\n",
    "    };\n",
    "\n",
    "    const trace2 = {\n",
    "      x: [1.5, 2.5, 3.5, 4.5, 5.5],\n",
    "      y: [5, 12, 9, 14, 10],\n",
    "      mode: 'lines+markers',\n",
    "      type: 'scatter',\n",
    "      name: 'Sample Data 2'\n",
    "    };\n",
    "\n",
    "    const data = [trace1, trace2];\n",
    "\n",
    "    const layout = {\n",
    "      title: 'My Scatter Plot',\n",
    "      xaxis: { title: 'X Axis' },\n",
    "      yaxis: { title: 'Y Axis' }\n",
    "    };\n",
    "\n",
    "    Plotly.newPlot(this.plotElement.nativeElement, data, layout);\n",
    "  }\n",
    "}\n",
    "```\n",
    "\n",
    "3. Delete the unused HTML file:\n",
    "\n",
    "```bash\n",
    "rm src/app/scatter-plot/scatter-plot.component.html\n",
    "```\n",
    "\n",
    "---\n",
    "\n",
    "### **Part 4: Integration into App Component – 10 points**\n",
    "\n",
    "1. Modify `app.component.ts` to import and include `ScatterPlotComponent`:\n",
    "\n",
    "```typescript\n",
    "import { Component } from '@angular/core';\n",
    "import { ScatterPlotComponent } from './scatter-plot/scatter-plot.component';\n",
    "\n",
    "@Component({\n",
    "  selector: 'app-root',\n",
    "  standalone: true,\n",
    "  imports: [\n",
    "    ScatterPlotComponent\n",
    "  ],\n",
    "  templateUrl: './app.component.html',\n",
    "  styleUrls: ['./app.component.css']\n",
    "})\n",
    "export class AppComponent {\n",
    "  title = 'mySurname-scatter-app';\n",
    "}\n",
    "```\n",
    "\n",
    "2. Modify `app.component.html`:\n",
    "\n",
    "```html\n",
    "<h1>Welcome to {{ title }}!</h1>\n",
    "<app-scatter-plot></app-scatter-plot>\n",
    "```\n",
    "\n",
    "---\n",
    "\n",
    "### **Part 5: Run and Verify – 5 points**\n",
    "\n",
    "1. Run the development server:\n",
    "\n",
    "```bash\n",
    "ng serve -o\n",
    "```\n",
    "\n",
    "2. Verify the application loads at `http://localhost:4200/` and displays:\n",
    "\n",
    "   * A title\n",
    "   * A scatter plot with two data sets\n",
    "   * A proper chart title and axis labels\n",
    "---\n"
   ]
  },
  {
   "cell_type": "markdown",
   "id": "9a001e20",
   "metadata": {},
   "source": [
    "**Penalties Summary:**\n",
    "\n",
    "| Condition                                            | Penalty     |\n",
    "| ---------------------------------------------------- | ----------- |\n",
    "| Project is not named exactly `mySurname-scatter-app` | −2 points   |\n",
    "| `node_modules` is not removed before zipping         | −1 point    |\n",
    "| Final `.zip` exceeds 10 MB                           | −2 points   |\n",
    "| Code is not properly commented                       | −5 points   |\n",
    "| **Total possible penalty**                           | **−10 pts** |"
   ]
  },
  {
   "cell_type": "markdown",
   "id": "cbd62bf4",
   "metadata": {},
   "source": [
    "---\n",
    "---"
   ]
  },
  {
   "cell_type": "markdown",
   "id": "d85004cc",
   "metadata": {},
   "source": [
    "### **Part 6: Multiple Choice – 10 points**\n",
    "\n",
    "- **+2 points** for each correct answer     \n",
    "- **–1 point** for each incorrect answer        \n",
    "- (Minimum score: **0**)        \n",
    "\n",
    "\n"
   ]
  },
  {
   "cell_type": "markdown",
   "id": "13300897",
   "metadata": {},
   "source": [
    "**1. What library is used to create the chart?**    \n",
    "\n",
    "A) D3.js        \n",
    "B) Plotly.js        \n",
    "C) Chart.js     \n",
    "D) Highcharts       \n",
    "\n",
    "\n"
   ]
  },
  {
   "cell_type": "markdown",
   "id": "85508cc1",
   "metadata": {},
   "source": [
    "Answer here..."
   ]
  },
  {
   "cell_type": "markdown",
   "id": "9a10f315",
   "metadata": {},
   "source": [
    "**2. What is the name of the component that shows the chart?**      \n",
    "\n",
    "A) LineChartComponent       \n",
    "B) GraphComponent       \n",
    "C) ScatterPlotComponent     \n",
    "D) ChartDisplayComponent        \n",
    "\n",
    "\n"
   ]
  },
  {
   "cell_type": "markdown",
   "id": "4d1d197e",
   "metadata": {},
   "source": [
    "Answer here..."
   ]
  },
  {
   "cell_type": "markdown",
   "id": "d7651123",
   "metadata": {},
   "source": [
    "**3. Which lifecycle hook is used to ensure the chart is created after the view is loaded?**        \n",
    "\n",
    "A) ngOnInit()       \n",
    "B) ngAfterViewInit()        \n",
    "C) ngAfterContentInit()     \n",
    "D) ngDestroy()      \n",
    "\n",
    "\n"
   ]
  },
  {
   "cell_type": "markdown",
   "id": "87e79d53",
   "metadata": {},
   "source": [
    "Answer here..."
   ]
  },
  {
   "cell_type": "markdown",
   "id": "a83cc72a",
   "metadata": {},
   "source": [
    "**4. What would happen if you forget to include the `<div #plotElement-` in the template?**     \n",
    "\n",
    "A) The plot shows up anyway     \n",
    "B) An error occurs because the element is not found     \n",
    "C) It creates a blank chart by default      \n",
    "D) Nothing happens, but Angular logs a warning      \n",
    "\n",
    "\n"
   ]
  },
  {
   "cell_type": "markdown",
   "id": "a2b57595",
   "metadata": {},
   "source": [
    "Answer here..."
   ]
  },
  {
   "cell_type": "markdown",
   "id": "57251289",
   "metadata": {},
   "source": [
    "**5. Which of the following is the correct Plotly function to render the chart?**       \n",
    "\n",
    "A) Plotly.draw()        \n",
    "B) Plotly.renderPlot()      \n",
    "C) Plotly.newPlot()     \n",
    "D) Plotly.chart()       \n",
    "\n"
   ]
  },
  {
   "cell_type": "markdown",
   "id": "2deedefb",
   "metadata": {},
   "source": [
    "Answer here..."
   ]
  }
 ],
 "metadata": {
  "language_info": {
   "name": "python"
  }
 },
 "nbformat": 4,
 "nbformat_minor": 5
}
